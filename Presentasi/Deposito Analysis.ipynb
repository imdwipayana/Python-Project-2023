{
 "cells": [
  {
   "cell_type": "markdown",
   "id": "081ac0ef",
   "metadata": {},
   "source": [
    "# Memanggil libraries yang diperlukan"
   ]
  },
  {
   "cell_type": "code",
   "execution_count": 1,
   "id": "b6e7734a",
   "metadata": {},
   "outputs": [],
   "source": [
    "import pandas as pd\n",
    "\n",
    "import warnings\n",
    "warnings.filterwarnings(\"ignore\")\n",
    "\n",
    "pd.set_option('max_columns',500)"
   ]
  },
  {
   "cell_type": "markdown",
   "id": "20c67995",
   "metadata": {},
   "source": [
    "# Membaca Dataset\n",
    "Perlu diingatkan di sini mengenai tipikal data yang akan diolah. Apakah berupa data kategori atau numerik. Selain itu juga perlu diperhatikan tujuan datanya apakah untuk klasifikasi, prediksi atau pengelompokan (clustering). Setiap tipe data nantinya akan menggunakan tools yang berbeda.\n",
    "\n",
    "Data di sini merupakan data nasabah pada suatu bank yang memutuskan untuk membuat rekening deposito atau tidak berdasarkan juga usaha dari bagian marketing bank dalam melakukan promosi. Tentunya tujuan klasifikasi dari pihak bank sendiri biar bisa melakukan targeting kepada calon nasabah. Kira-kira dengan latar belakang calon nasabah akan dapat dilakukan pemetaan jenis nasabah yang seperti apa yang perlu dilakukan penjajakan lebih serius karena lebih terbukti untuk melakukan pembukaan rekening deposito."
   ]
  },
  {
   "cell_type": "code",
   "execution_count": 2,
   "id": "4724b7ba",
   "metadata": {},
   "outputs": [],
   "source": [
    "data = pd.read_csv('deposito.csv')"
   ]
  },
  {
   "cell_type": "code",
   "execution_count": 3,
   "id": "0a13e1b2",
   "metadata": {},
   "outputs": [
    {
     "data": {
      "text/html": [
       "<div>\n",
       "<style scoped>\n",
       "    .dataframe tbody tr th:only-of-type {\n",
       "        vertical-align: middle;\n",
       "    }\n",
       "\n",
       "    .dataframe tbody tr th {\n",
       "        vertical-align: top;\n",
       "    }\n",
       "\n",
       "    .dataframe thead th {\n",
       "        text-align: right;\n",
       "    }\n",
       "</style>\n",
       "<table border=\"1\" class=\"dataframe\">\n",
       "  <thead>\n",
       "    <tr style=\"text-align: right;\">\n",
       "      <th></th>\n",
       "      <th>UMUR</th>\n",
       "      <th>PEKERJAAN</th>\n",
       "      <th>STATUS_PERKAWINAN</th>\n",
       "      <th>PENDIDIKAN</th>\n",
       "      <th>KREDIT_RUMAH</th>\n",
       "      <th>PINJAMAN</th>\n",
       "      <th>MENGHUBUNGI_DENGAN</th>\n",
       "      <th>LAMA_BICARA</th>\n",
       "      <th>JUMLAH_KONTAK_SEKARANG</th>\n",
       "      <th>JUMLAH_KONTAK_SEBELUMNYA</th>\n",
       "      <th>HASIL_SEBELUMNYA</th>\n",
       "      <th>DEPOSITO</th>\n",
       "    </tr>\n",
       "  </thead>\n",
       "  <tbody>\n",
       "    <tr>\n",
       "      <th>0</th>\n",
       "      <td>37</td>\n",
       "      <td>wiraswasta</td>\n",
       "      <td>menikah</td>\n",
       "      <td>lulus universitas</td>\n",
       "      <td>tidak</td>\n",
       "      <td>tidak ada</td>\n",
       "      <td>telepon rumah</td>\n",
       "      <td>202</td>\n",
       "      <td>2</td>\n",
       "      <td>1</td>\n",
       "      <td>gagal</td>\n",
       "      <td>belum</td>\n",
       "    </tr>\n",
       "    <tr>\n",
       "      <th>1</th>\n",
       "      <td>34</td>\n",
       "      <td>administrasi</td>\n",
       "      <td>lajang</td>\n",
       "      <td>lulus universitas</td>\n",
       "      <td>tidak</td>\n",
       "      <td>ada</td>\n",
       "      <td>HP</td>\n",
       "      <td>288</td>\n",
       "      <td>2</td>\n",
       "      <td>1</td>\n",
       "      <td>sukses</td>\n",
       "      <td>sukses</td>\n",
       "    </tr>\n",
       "    <tr>\n",
       "      <th>2</th>\n",
       "      <td>55</td>\n",
       "      <td>pengangguran</td>\n",
       "      <td>cerai</td>\n",
       "      <td>lulus universitas</td>\n",
       "      <td>tidak</td>\n",
       "      <td>tidak ada</td>\n",
       "      <td>HP</td>\n",
       "      <td>212</td>\n",
       "      <td>3</td>\n",
       "      <td>3</td>\n",
       "      <td>sukses</td>\n",
       "      <td>sukses</td>\n",
       "    </tr>\n",
       "    <tr>\n",
       "      <th>3</th>\n",
       "      <td>33</td>\n",
       "      <td>buruh</td>\n",
       "      <td>lajang</td>\n",
       "      <td>tidak lulus SD</td>\n",
       "      <td>ya</td>\n",
       "      <td>tidak ada</td>\n",
       "      <td>HP</td>\n",
       "      <td>146</td>\n",
       "      <td>1</td>\n",
       "      <td>1</td>\n",
       "      <td>gagal</td>\n",
       "      <td>belum</td>\n",
       "    </tr>\n",
       "    <tr>\n",
       "      <th>4</th>\n",
       "      <td>46</td>\n",
       "      <td>administrasi</td>\n",
       "      <td>lajang</td>\n",
       "      <td>lulus universitas</td>\n",
       "      <td>ya</td>\n",
       "      <td>tidak ada</td>\n",
       "      <td>HP</td>\n",
       "      <td>1166</td>\n",
       "      <td>3</td>\n",
       "      <td>1</td>\n",
       "      <td>gagal</td>\n",
       "      <td>belum</td>\n",
       "    </tr>\n",
       "  </tbody>\n",
       "</table>\n",
       "</div>"
      ],
      "text/plain": [
       "   UMUR     PEKERJAAN STATUS_PERKAWINAN         PENDIDIKAN KREDIT_RUMAH  \\\n",
       "0    37    wiraswasta           menikah  lulus universitas        tidak   \n",
       "1    34  administrasi            lajang  lulus universitas        tidak   \n",
       "2    55  pengangguran             cerai  lulus universitas        tidak   \n",
       "3    33         buruh            lajang     tidak lulus SD           ya   \n",
       "4    46  administrasi            lajang  lulus universitas           ya   \n",
       "\n",
       "    PINJAMAN MENGHUBUNGI_DENGAN  LAMA_BICARA  JUMLAH_KONTAK_SEKARANG  \\\n",
       "0  tidak ada      telepon rumah          202                       2   \n",
       "1        ada                 HP          288                       2   \n",
       "2  tidak ada                 HP          212                       3   \n",
       "3  tidak ada                 HP          146                       1   \n",
       "4  tidak ada                 HP         1166                       3   \n",
       "\n",
       "   JUMLAH_KONTAK_SEBELUMNYA HASIL_SEBELUMNYA DEPOSITO  \n",
       "0                         1            gagal    belum  \n",
       "1                         1           sukses   sukses  \n",
       "2                         3           sukses   sukses  \n",
       "3                         1            gagal    belum  \n",
       "4                         1            gagal    belum  "
      ]
     },
     "execution_count": 3,
     "metadata": {},
     "output_type": "execute_result"
    }
   ],
   "source": [
    "data.head()"
   ]
  },
  {
   "cell_type": "markdown",
   "id": "af7f038b",
   "metadata": {},
   "source": [
    "Dari data, terlihat bahwa tujuan data adalah melakukan klasifikasi mengenai nasabah yang nantinya akan membuka rekening deposito atau tidak.\n",
    "\n",
    "Disini pihak bank memiliki beberapa team marketing. Terdapat usaha sebelumnya yang telah dilakukan oleh team marketing lainnya. Jadi nasabah yang sama, walaupun sebelumnya sudah melakukan pembukaan rekening deposito, masih akan dilakukan penjajakan untuk kembali menambah rekening deposito nya."
   ]
  },
  {
   "cell_type": "code",
   "execution_count": 4,
   "id": "ff950211",
   "metadata": {},
   "outputs": [
    {
     "data": {
      "text/html": [
       "<div>\n",
       "<style scoped>\n",
       "    .dataframe tbody tr th:only-of-type {\n",
       "        vertical-align: middle;\n",
       "    }\n",
       "\n",
       "    .dataframe tbody tr th {\n",
       "        vertical-align: top;\n",
       "    }\n",
       "\n",
       "    .dataframe thead th {\n",
       "        text-align: right;\n",
       "    }\n",
       "</style>\n",
       "<table border=\"1\" class=\"dataframe\">\n",
       "  <thead>\n",
       "    <tr style=\"text-align: right;\">\n",
       "      <th></th>\n",
       "      <th>UMUR</th>\n",
       "      <th>LAMA_BICARA</th>\n",
       "      <th>JUMLAH_KONTAK_SEKARANG</th>\n",
       "      <th>JUMLAH_KONTAK_SEBELUMNYA</th>\n",
       "    </tr>\n",
       "  </thead>\n",
       "  <tbody>\n",
       "    <tr>\n",
       "      <th>count</th>\n",
       "      <td>4175.000000</td>\n",
       "      <td>4175.000000</td>\n",
       "      <td>4175.000000</td>\n",
       "      <td>4175.000000</td>\n",
       "    </tr>\n",
       "    <tr>\n",
       "      <th>mean</th>\n",
       "      <td>40.303952</td>\n",
       "      <td>263.857964</td>\n",
       "      <td>1.959521</td>\n",
       "      <td>1.258683</td>\n",
       "    </tr>\n",
       "    <tr>\n",
       "      <th>std</th>\n",
       "      <td>12.333775</td>\n",
       "      <td>238.215084</td>\n",
       "      <td>1.411005</td>\n",
       "      <td>0.634162</td>\n",
       "    </tr>\n",
       "    <tr>\n",
       "      <th>min</th>\n",
       "      <td>17.000000</td>\n",
       "      <td>1.000000</td>\n",
       "      <td>1.000000</td>\n",
       "      <td>1.000000</td>\n",
       "    </tr>\n",
       "    <tr>\n",
       "      <th>25%</th>\n",
       "      <td>31.000000</td>\n",
       "      <td>116.000000</td>\n",
       "      <td>1.000000</td>\n",
       "      <td>1.000000</td>\n",
       "    </tr>\n",
       "    <tr>\n",
       "      <th>50%</th>\n",
       "      <td>37.000000</td>\n",
       "      <td>197.000000</td>\n",
       "      <td>1.000000</td>\n",
       "      <td>1.000000</td>\n",
       "    </tr>\n",
       "    <tr>\n",
       "      <th>75%</th>\n",
       "      <td>48.000000</td>\n",
       "      <td>325.000000</td>\n",
       "      <td>2.000000</td>\n",
       "      <td>1.000000</td>\n",
       "    </tr>\n",
       "    <tr>\n",
       "      <th>max</th>\n",
       "      <td>91.000000</td>\n",
       "      <td>3509.000000</td>\n",
       "      <td>16.000000</td>\n",
       "      <td>7.000000</td>\n",
       "    </tr>\n",
       "  </tbody>\n",
       "</table>\n",
       "</div>"
      ],
      "text/plain": [
       "              UMUR  LAMA_BICARA  JUMLAH_KONTAK_SEKARANG  \\\n",
       "count  4175.000000  4175.000000             4175.000000   \n",
       "mean     40.303952   263.857964                1.959521   \n",
       "std      12.333775   238.215084                1.411005   \n",
       "min      17.000000     1.000000                1.000000   \n",
       "25%      31.000000   116.000000                1.000000   \n",
       "50%      37.000000   197.000000                1.000000   \n",
       "75%      48.000000   325.000000                2.000000   \n",
       "max      91.000000  3509.000000               16.000000   \n",
       "\n",
       "       JUMLAH_KONTAK_SEBELUMNYA  \n",
       "count               4175.000000  \n",
       "mean                   1.258683  \n",
       "std                    0.634162  \n",
       "min                    1.000000  \n",
       "25%                    1.000000  \n",
       "50%                    1.000000  \n",
       "75%                    1.000000  \n",
       "max                    7.000000  "
      ]
     },
     "execution_count": 4,
     "metadata": {},
     "output_type": "execute_result"
    }
   ],
   "source": [
    "data.describe()"
   ]
  },
  {
   "cell_type": "code",
   "execution_count": 5,
   "id": "48ee867a",
   "metadata": {},
   "outputs": [
    {
     "data": {
      "text/plain": [
       "UMUR                         int64\n",
       "PEKERJAAN                   object\n",
       "STATUS_PERKAWINAN           object\n",
       "PENDIDIKAN                  object\n",
       "KREDIT_RUMAH                object\n",
       "PINJAMAN                    object\n",
       "MENGHUBUNGI_DENGAN          object\n",
       "LAMA_BICARA                  int64\n",
       "JUMLAH_KONTAK_SEKARANG       int64\n",
       "JUMLAH_KONTAK_SEBELUMNYA     int64\n",
       "HASIL_SEBELUMNYA            object\n",
       "DEPOSITO                    object\n",
       "dtype: object"
      ]
     },
     "execution_count": 5,
     "metadata": {},
     "output_type": "execute_result"
    }
   ],
   "source": [
    "# Melihat type data apakah berupa integer, bilangan desimal, atau data kategori\n",
    "data.dtypes"
   ]
  },
  {
   "cell_type": "code",
   "execution_count": 6,
   "id": "da4b6d4b",
   "metadata": {},
   "outputs": [
    {
     "data": {
      "text/plain": [
       "UMUR                        0\n",
       "PEKERJAAN                   0\n",
       "STATUS_PERKAWINAN           0\n",
       "PENDIDIKAN                  0\n",
       "KREDIT_RUMAH                0\n",
       "PINJAMAN                    0\n",
       "MENGHUBUNGI_DENGAN          0\n",
       "LAMA_BICARA                 0\n",
       "JUMLAH_KONTAK_SEKARANG      0\n",
       "JUMLAH_KONTAK_SEBELUMNYA    0\n",
       "HASIL_SEBELUMNYA            0\n",
       "DEPOSITO                    0\n",
       "dtype: int64"
      ]
     },
     "execution_count": 6,
     "metadata": {},
     "output_type": "execute_result"
    }
   ],
   "source": [
    "# mengecek apakah terdapat data yang kosong\n",
    "data.isnull().sum()"
   ]
  },
  {
   "cell_type": "code",
   "execution_count": 7,
   "id": "b1e797a6",
   "metadata": {},
   "outputs": [
    {
     "data": {
      "text/plain": [
       "array(['wiraswasta', 'administrasi', 'pengangguran', 'buruh', 'freelance',\n",
       "       'teknisi', 'karyawan', 'pelayan', 'pensiunan', 'mahasiswa', 'PRT'],\n",
       "      dtype=object)"
      ]
     },
     "execution_count": 7,
     "metadata": {},
     "output_type": "execute_result"
    }
   ],
   "source": [
    "# Melihat apa saja isi dari kolom PEKERJAAN (data kategori yang tidak dapat dibandingkan)\n",
    "data.PEKERJAAN.unique()"
   ]
  },
  {
   "cell_type": "code",
   "execution_count": 8,
   "id": "d5959fe8",
   "metadata": {},
   "outputs": [
    {
     "data": {
      "text/plain": [
       "array(['menikah', 'lajang', 'cerai'], dtype=object)"
      ]
     },
     "execution_count": 8,
     "metadata": {},
     "output_type": "execute_result"
    }
   ],
   "source": [
    "# STATUS_PERKAWINAN juga merupakan data ketegori yang tidak dapat dibandingkan\n",
    "data.STATUS_PERKAWINAN.unique()"
   ]
  },
  {
   "cell_type": "code",
   "execution_count": 9,
   "id": "10d0ea91",
   "metadata": {},
   "outputs": [
    {
     "data": {
      "text/plain": [
       "array(['lulus universitas', 'tidak lulus SD', 'lulus diploma',\n",
       "       'lulus SMP', 'lulus SMA', 'lulus SD'], dtype=object)"
      ]
     },
     "execution_count": 9,
     "metadata": {},
     "output_type": "execute_result"
    }
   ],
   "source": [
    "# Data PENDIDIKAN masih bisa dilakukan perbandingan\n",
    "data.PENDIDIKAN.unique()"
   ]
  },
  {
   "cell_type": "code",
   "execution_count": 10,
   "id": "34ecaa8f",
   "metadata": {},
   "outputs": [],
   "source": [
    "# Melakukan mapping dari Pendidikan karena walaupun pendidikan merupakan data kategori, akan tetapi\n",
    "# terdapat peningkatan dari SD, SMP, SMA, Diploma dan Universitas.\n",
    "data['PENDIDIKAN'] = \\\n",
    "data['PENDIDIKAN'].map({'lulus universitas':5,'lulus SMA':3,'lulus SMP':2,'lulus diploma':4,'tidak lulus SD':0,'lulus SD':1})"
   ]
  },
  {
   "cell_type": "code",
   "execution_count": 11,
   "id": "cd208019",
   "metadata": {},
   "outputs": [
    {
     "data": {
      "text/plain": [
       "array(['tidak', 'ya'], dtype=object)"
      ]
     },
     "execution_count": 11,
     "metadata": {},
     "output_type": "execute_result"
    }
   ],
   "source": [
    "# Data kategori biner (karena terdapat hanya dua pilihan)\n",
    "data.KREDIT_RUMAH.unique()"
   ]
  },
  {
   "cell_type": "code",
   "execution_count": 12,
   "id": "f32488bb",
   "metadata": {},
   "outputs": [],
   "source": [
    "data['KREDIT_RUMAH'] = \\\n",
    "data['KREDIT_RUMAH'].map({'tidak':0,'ya':1})"
   ]
  },
  {
   "cell_type": "code",
   "execution_count": 13,
   "id": "90728d65",
   "metadata": {},
   "outputs": [
    {
     "data": {
      "text/plain": [
       "array(['tidak ada', 'ada'], dtype=object)"
      ]
     },
     "execution_count": 13,
     "metadata": {},
     "output_type": "execute_result"
    }
   ],
   "source": [
    "data.PINJAMAN.unique()"
   ]
  },
  {
   "cell_type": "code",
   "execution_count": 14,
   "id": "100d93d7",
   "metadata": {},
   "outputs": [],
   "source": [
    "data['PINJAMAN'] = \\\n",
    "data['PINJAMAN'].map({'tidak ada':0,'ada':1})"
   ]
  },
  {
   "cell_type": "code",
   "execution_count": 15,
   "id": "b4ac1107",
   "metadata": {},
   "outputs": [
    {
     "data": {
      "text/plain": [
       "array(['telepon rumah', 'HP'], dtype=object)"
      ]
     },
     "execution_count": 15,
     "metadata": {},
     "output_type": "execute_result"
    }
   ],
   "source": [
    "data.MENGHUBUNGI_DENGAN.unique()"
   ]
  },
  {
   "cell_type": "code",
   "execution_count": 16,
   "id": "7320d73e",
   "metadata": {},
   "outputs": [],
   "source": [
    "data['MENGHUBUNGI_DENGAN'] = \\\n",
    "data['MENGHUBUNGI_DENGAN'].map({'telepon rumah':0,'HP':1})"
   ]
  },
  {
   "cell_type": "code",
   "execution_count": 17,
   "id": "b2fbb506",
   "metadata": {},
   "outputs": [
    {
     "data": {
      "text/plain": [
       "array(['gagal', 'sukses'], dtype=object)"
      ]
     },
     "execution_count": 17,
     "metadata": {},
     "output_type": "execute_result"
    }
   ],
   "source": [
    "data.HASIL_SEBELUMNYA.unique()"
   ]
  },
  {
   "cell_type": "code",
   "execution_count": 18,
   "id": "4770acee",
   "metadata": {},
   "outputs": [],
   "source": [
    "data['HASIL_SEBELUMNYA'] = \\\n",
    "data['HASIL_SEBELUMNYA'].map({'gagal':0,'sukses':1})"
   ]
  },
  {
   "cell_type": "code",
   "execution_count": 19,
   "id": "8b81bca3",
   "metadata": {},
   "outputs": [
    {
     "data": {
      "text/plain": [
       "array(['belum', 'sukses'], dtype=object)"
      ]
     },
     "execution_count": 19,
     "metadata": {},
     "output_type": "execute_result"
    }
   ],
   "source": [
    "# Data target karena dari data sebelumnya akan digunakan menebak apakah nasabah tersebut \n",
    "# akan sukses membuka rekening deposito ataukah masih belum mau membuka.\n",
    "data.DEPOSITO.unique()"
   ]
  },
  {
   "cell_type": "code",
   "execution_count": 20,
   "id": "9606e9b9",
   "metadata": {},
   "outputs": [],
   "source": [
    "data['DEPOSITO'] = \\\n",
    "data['DEPOSITO'].map({'belum':0,'sukses':1})"
   ]
  },
  {
   "cell_type": "code",
   "execution_count": 21,
   "id": "898b1794",
   "metadata": {},
   "outputs": [
    {
     "data": {
      "text/html": [
       "<div>\n",
       "<style scoped>\n",
       "    .dataframe tbody tr th:only-of-type {\n",
       "        vertical-align: middle;\n",
       "    }\n",
       "\n",
       "    .dataframe tbody tr th {\n",
       "        vertical-align: top;\n",
       "    }\n",
       "\n",
       "    .dataframe thead th {\n",
       "        text-align: right;\n",
       "    }\n",
       "</style>\n",
       "<table border=\"1\" class=\"dataframe\">\n",
       "  <thead>\n",
       "    <tr style=\"text-align: right;\">\n",
       "      <th></th>\n",
       "      <th>UMUR</th>\n",
       "      <th>PENDIDIKAN</th>\n",
       "      <th>KREDIT_RUMAH</th>\n",
       "      <th>PINJAMAN</th>\n",
       "      <th>MENGHUBUNGI_DENGAN</th>\n",
       "      <th>LAMA_BICARA</th>\n",
       "      <th>JUMLAH_KONTAK_SEKARANG</th>\n",
       "      <th>JUMLAH_KONTAK_SEBELUMNYA</th>\n",
       "      <th>HASIL_SEBELUMNYA</th>\n",
       "      <th>DEPOSITO</th>\n",
       "    </tr>\n",
       "  </thead>\n",
       "  <tbody>\n",
       "    <tr>\n",
       "      <th>count</th>\n",
       "      <td>4175.000000</td>\n",
       "      <td>4175.000000</td>\n",
       "      <td>4175.000000</td>\n",
       "      <td>4175.000000</td>\n",
       "      <td>4175.000000</td>\n",
       "      <td>4175.000000</td>\n",
       "      <td>4175.000000</td>\n",
       "      <td>4175.000000</td>\n",
       "      <td>4175.000000</td>\n",
       "      <td>4175.000000</td>\n",
       "    </tr>\n",
       "    <tr>\n",
       "      <th>mean</th>\n",
       "      <td>40.303952</td>\n",
       "      <td>3.297485</td>\n",
       "      <td>0.572934</td>\n",
       "      <td>0.155689</td>\n",
       "      <td>0.927665</td>\n",
       "      <td>263.857964</td>\n",
       "      <td>1.959521</td>\n",
       "      <td>1.258683</td>\n",
       "      <td>0.239281</td>\n",
       "      <td>0.257725</td>\n",
       "    </tr>\n",
       "    <tr>\n",
       "      <th>std</th>\n",
       "      <td>12.333775</td>\n",
       "      <td>1.578373</td>\n",
       "      <td>0.494711</td>\n",
       "      <td>0.362603</td>\n",
       "      <td>0.259073</td>\n",
       "      <td>238.215084</td>\n",
       "      <td>1.411005</td>\n",
       "      <td>0.634162</td>\n",
       "      <td>0.426696</td>\n",
       "      <td>0.437434</td>\n",
       "    </tr>\n",
       "    <tr>\n",
       "      <th>min</th>\n",
       "      <td>17.000000</td>\n",
       "      <td>0.000000</td>\n",
       "      <td>0.000000</td>\n",
       "      <td>0.000000</td>\n",
       "      <td>0.000000</td>\n",
       "      <td>1.000000</td>\n",
       "      <td>1.000000</td>\n",
       "      <td>1.000000</td>\n",
       "      <td>0.000000</td>\n",
       "      <td>0.000000</td>\n",
       "    </tr>\n",
       "    <tr>\n",
       "      <th>25%</th>\n",
       "      <td>31.000000</td>\n",
       "      <td>2.000000</td>\n",
       "      <td>0.000000</td>\n",
       "      <td>0.000000</td>\n",
       "      <td>1.000000</td>\n",
       "      <td>116.000000</td>\n",
       "      <td>1.000000</td>\n",
       "      <td>1.000000</td>\n",
       "      <td>0.000000</td>\n",
       "      <td>0.000000</td>\n",
       "    </tr>\n",
       "    <tr>\n",
       "      <th>50%</th>\n",
       "      <td>37.000000</td>\n",
       "      <td>3.000000</td>\n",
       "      <td>1.000000</td>\n",
       "      <td>0.000000</td>\n",
       "      <td>1.000000</td>\n",
       "      <td>197.000000</td>\n",
       "      <td>1.000000</td>\n",
       "      <td>1.000000</td>\n",
       "      <td>0.000000</td>\n",
       "      <td>0.000000</td>\n",
       "    </tr>\n",
       "    <tr>\n",
       "      <th>75%</th>\n",
       "      <td>48.000000</td>\n",
       "      <td>5.000000</td>\n",
       "      <td>1.000000</td>\n",
       "      <td>0.000000</td>\n",
       "      <td>1.000000</td>\n",
       "      <td>325.000000</td>\n",
       "      <td>2.000000</td>\n",
       "      <td>1.000000</td>\n",
       "      <td>0.000000</td>\n",
       "      <td>1.000000</td>\n",
       "    </tr>\n",
       "    <tr>\n",
       "      <th>max</th>\n",
       "      <td>91.000000</td>\n",
       "      <td>5.000000</td>\n",
       "      <td>1.000000</td>\n",
       "      <td>1.000000</td>\n",
       "      <td>1.000000</td>\n",
       "      <td>3509.000000</td>\n",
       "      <td>16.000000</td>\n",
       "      <td>7.000000</td>\n",
       "      <td>1.000000</td>\n",
       "      <td>1.000000</td>\n",
       "    </tr>\n",
       "  </tbody>\n",
       "</table>\n",
       "</div>"
      ],
      "text/plain": [
       "              UMUR   PENDIDIKAN  KREDIT_RUMAH     PINJAMAN  \\\n",
       "count  4175.000000  4175.000000   4175.000000  4175.000000   \n",
       "mean     40.303952     3.297485      0.572934     0.155689   \n",
       "std      12.333775     1.578373      0.494711     0.362603   \n",
       "min      17.000000     0.000000      0.000000     0.000000   \n",
       "25%      31.000000     2.000000      0.000000     0.000000   \n",
       "50%      37.000000     3.000000      1.000000     0.000000   \n",
       "75%      48.000000     5.000000      1.000000     0.000000   \n",
       "max      91.000000     5.000000      1.000000     1.000000   \n",
       "\n",
       "       MENGHUBUNGI_DENGAN  LAMA_BICARA  JUMLAH_KONTAK_SEKARANG  \\\n",
       "count         4175.000000  4175.000000             4175.000000   \n",
       "mean             0.927665   263.857964                1.959521   \n",
       "std              0.259073   238.215084                1.411005   \n",
       "min              0.000000     1.000000                1.000000   \n",
       "25%              1.000000   116.000000                1.000000   \n",
       "50%              1.000000   197.000000                1.000000   \n",
       "75%              1.000000   325.000000                2.000000   \n",
       "max              1.000000  3509.000000               16.000000   \n",
       "\n",
       "       JUMLAH_KONTAK_SEBELUMNYA  HASIL_SEBELUMNYA     DEPOSITO  \n",
       "count               4175.000000       4175.000000  4175.000000  \n",
       "mean                   1.258683          0.239281     0.257725  \n",
       "std                    0.634162          0.426696     0.437434  \n",
       "min                    1.000000          0.000000     0.000000  \n",
       "25%                    1.000000          0.000000     0.000000  \n",
       "50%                    1.000000          0.000000     0.000000  \n",
       "75%                    1.000000          0.000000     1.000000  \n",
       "max                    7.000000          1.000000     1.000000  "
      ]
     },
     "execution_count": 21,
     "metadata": {},
     "output_type": "execute_result"
    }
   ],
   "source": [
    "data.describe()"
   ]
  },
  {
   "cell_type": "code",
   "execution_count": 22,
   "id": "829afb6c",
   "metadata": {},
   "outputs": [
    {
     "data": {
      "text/plain": [
       "Index(['UMUR', 'PEKERJAAN', 'STATUS_PERKAWINAN', 'PENDIDIKAN', 'KREDIT_RUMAH',\n",
       "       'PINJAMAN', 'MENGHUBUNGI_DENGAN', 'LAMA_BICARA',\n",
       "       'JUMLAH_KONTAK_SEKARANG', 'JUMLAH_KONTAK_SEBELUMNYA',\n",
       "       'HASIL_SEBELUMNYA', 'DEPOSITO'],\n",
       "      dtype='object')"
      ]
     },
     "execution_count": 22,
     "metadata": {},
     "output_type": "execute_result"
    }
   ],
   "source": [
    "data.columns"
   ]
  },
  {
   "cell_type": "code",
   "execution_count": 23,
   "id": "1b06387c",
   "metadata": {},
   "outputs": [
    {
     "data": {
      "text/plain": [
       "UMUR                         int64\n",
       "PEKERJAAN                   object\n",
       "STATUS_PERKAWINAN           object\n",
       "PENDIDIKAN                   int64\n",
       "KREDIT_RUMAH                 int64\n",
       "PINJAMAN                     int64\n",
       "MENGHUBUNGI_DENGAN           int64\n",
       "LAMA_BICARA                  int64\n",
       "JUMLAH_KONTAK_SEKARANG       int64\n",
       "JUMLAH_KONTAK_SEBELUMNYA     int64\n",
       "HASIL_SEBELUMNYA             int64\n",
       "DEPOSITO                     int64\n",
       "dtype: object"
      ]
     },
     "execution_count": 23,
     "metadata": {},
     "output_type": "execute_result"
    }
   ],
   "source": [
    "data.dtypes"
   ]
  },
  {
   "cell_type": "code",
   "execution_count": 24,
   "id": "57028201",
   "metadata": {},
   "outputs": [],
   "source": [
    "data_categorical =['PEKERJAAN','STATUS_PERKAWINAN']\n",
    "data_numeric =['UMUR','PENDIDIKAN','LAMA_BICARA','JUMLAH_KONTAK_SEKARANG','JUMLAH_KONTAK_SEBELUMNYA']\n",
    "data_binary = ['KREDIT_RUMAH','PINJAMAN','MENGHUBUNGI_DENGAN','HASIL_SEBELUMNYA']\n",
    "data_target = ['DEPOSITO']"
   ]
  },
  {
   "cell_type": "markdown",
   "id": "626e4e41",
   "metadata": {},
   "source": [
    "# One Hot Encoding\n",
    "Menggunakan one hot encoding bagi data kategori yang tidak bisa dibandingkan"
   ]
  },
  {
   "cell_type": "code",
   "execution_count": 25,
   "id": "c4b56d34",
   "metadata": {},
   "outputs": [
    {
     "data": {
      "text/html": [
       "<div>\n",
       "<style scoped>\n",
       "    .dataframe tbody tr th:only-of-type {\n",
       "        vertical-align: middle;\n",
       "    }\n",
       "\n",
       "    .dataframe tbody tr th {\n",
       "        vertical-align: top;\n",
       "    }\n",
       "\n",
       "    .dataframe thead th {\n",
       "        text-align: right;\n",
       "    }\n",
       "</style>\n",
       "<table border=\"1\" class=\"dataframe\">\n",
       "  <thead>\n",
       "    <tr style=\"text-align: right;\">\n",
       "      <th></th>\n",
       "      <th>UMUR</th>\n",
       "      <th>PENDIDIKAN</th>\n",
       "      <th>KREDIT_RUMAH</th>\n",
       "      <th>PINJAMAN</th>\n",
       "      <th>MENGHUBUNGI_DENGAN</th>\n",
       "      <th>LAMA_BICARA</th>\n",
       "      <th>JUMLAH_KONTAK_SEKARANG</th>\n",
       "      <th>JUMLAH_KONTAK_SEBELUMNYA</th>\n",
       "      <th>HASIL_SEBELUMNYA</th>\n",
       "      <th>DEPOSITO</th>\n",
       "      <th>PEKERJAAN_PRT</th>\n",
       "      <th>PEKERJAAN_administrasi</th>\n",
       "      <th>PEKERJAAN_buruh</th>\n",
       "      <th>PEKERJAAN_freelance</th>\n",
       "      <th>PEKERJAAN_karyawan</th>\n",
       "      <th>PEKERJAAN_mahasiswa</th>\n",
       "      <th>PEKERJAAN_pelayan</th>\n",
       "      <th>PEKERJAAN_pengangguran</th>\n",
       "      <th>PEKERJAAN_pensiunan</th>\n",
       "      <th>PEKERJAAN_teknisi</th>\n",
       "      <th>PEKERJAAN_wiraswasta</th>\n",
       "      <th>STATUS_PERKAWINAN_cerai</th>\n",
       "      <th>STATUS_PERKAWINAN_lajang</th>\n",
       "      <th>STATUS_PERKAWINAN_menikah</th>\n",
       "    </tr>\n",
       "  </thead>\n",
       "  <tbody>\n",
       "    <tr>\n",
       "      <th>0</th>\n",
       "      <td>37</td>\n",
       "      <td>5</td>\n",
       "      <td>0</td>\n",
       "      <td>0</td>\n",
       "      <td>0</td>\n",
       "      <td>202</td>\n",
       "      <td>2</td>\n",
       "      <td>1</td>\n",
       "      <td>0</td>\n",
       "      <td>0</td>\n",
       "      <td>0</td>\n",
       "      <td>0</td>\n",
       "      <td>0</td>\n",
       "      <td>0</td>\n",
       "      <td>0</td>\n",
       "      <td>0</td>\n",
       "      <td>0</td>\n",
       "      <td>0</td>\n",
       "      <td>0</td>\n",
       "      <td>0</td>\n",
       "      <td>1</td>\n",
       "      <td>0</td>\n",
       "      <td>0</td>\n",
       "      <td>1</td>\n",
       "    </tr>\n",
       "    <tr>\n",
       "      <th>1</th>\n",
       "      <td>34</td>\n",
       "      <td>5</td>\n",
       "      <td>0</td>\n",
       "      <td>1</td>\n",
       "      <td>1</td>\n",
       "      <td>288</td>\n",
       "      <td>2</td>\n",
       "      <td>1</td>\n",
       "      <td>1</td>\n",
       "      <td>1</td>\n",
       "      <td>0</td>\n",
       "      <td>1</td>\n",
       "      <td>0</td>\n",
       "      <td>0</td>\n",
       "      <td>0</td>\n",
       "      <td>0</td>\n",
       "      <td>0</td>\n",
       "      <td>0</td>\n",
       "      <td>0</td>\n",
       "      <td>0</td>\n",
       "      <td>0</td>\n",
       "      <td>0</td>\n",
       "      <td>1</td>\n",
       "      <td>0</td>\n",
       "    </tr>\n",
       "    <tr>\n",
       "      <th>2</th>\n",
       "      <td>55</td>\n",
       "      <td>5</td>\n",
       "      <td>0</td>\n",
       "      <td>0</td>\n",
       "      <td>1</td>\n",
       "      <td>212</td>\n",
       "      <td>3</td>\n",
       "      <td>3</td>\n",
       "      <td>1</td>\n",
       "      <td>1</td>\n",
       "      <td>0</td>\n",
       "      <td>0</td>\n",
       "      <td>0</td>\n",
       "      <td>0</td>\n",
       "      <td>0</td>\n",
       "      <td>0</td>\n",
       "      <td>0</td>\n",
       "      <td>1</td>\n",
       "      <td>0</td>\n",
       "      <td>0</td>\n",
       "      <td>0</td>\n",
       "      <td>1</td>\n",
       "      <td>0</td>\n",
       "      <td>0</td>\n",
       "    </tr>\n",
       "    <tr>\n",
       "      <th>3</th>\n",
       "      <td>33</td>\n",
       "      <td>0</td>\n",
       "      <td>1</td>\n",
       "      <td>0</td>\n",
       "      <td>1</td>\n",
       "      <td>146</td>\n",
       "      <td>1</td>\n",
       "      <td>1</td>\n",
       "      <td>0</td>\n",
       "      <td>0</td>\n",
       "      <td>0</td>\n",
       "      <td>0</td>\n",
       "      <td>1</td>\n",
       "      <td>0</td>\n",
       "      <td>0</td>\n",
       "      <td>0</td>\n",
       "      <td>0</td>\n",
       "      <td>0</td>\n",
       "      <td>0</td>\n",
       "      <td>0</td>\n",
       "      <td>0</td>\n",
       "      <td>0</td>\n",
       "      <td>1</td>\n",
       "      <td>0</td>\n",
       "    </tr>\n",
       "    <tr>\n",
       "      <th>4</th>\n",
       "      <td>46</td>\n",
       "      <td>5</td>\n",
       "      <td>1</td>\n",
       "      <td>0</td>\n",
       "      <td>1</td>\n",
       "      <td>1166</td>\n",
       "      <td>3</td>\n",
       "      <td>1</td>\n",
       "      <td>0</td>\n",
       "      <td>0</td>\n",
       "      <td>0</td>\n",
       "      <td>1</td>\n",
       "      <td>0</td>\n",
       "      <td>0</td>\n",
       "      <td>0</td>\n",
       "      <td>0</td>\n",
       "      <td>0</td>\n",
       "      <td>0</td>\n",
       "      <td>0</td>\n",
       "      <td>0</td>\n",
       "      <td>0</td>\n",
       "      <td>0</td>\n",
       "      <td>1</td>\n",
       "      <td>0</td>\n",
       "    </tr>\n",
       "  </tbody>\n",
       "</table>\n",
       "</div>"
      ],
      "text/plain": [
       "   UMUR  PENDIDIKAN  KREDIT_RUMAH  PINJAMAN  MENGHUBUNGI_DENGAN  LAMA_BICARA  \\\n",
       "0    37           5             0         0                   0          202   \n",
       "1    34           5             0         1                   1          288   \n",
       "2    55           5             0         0                   1          212   \n",
       "3    33           0             1         0                   1          146   \n",
       "4    46           5             1         0                   1         1166   \n",
       "\n",
       "   JUMLAH_KONTAK_SEKARANG  JUMLAH_KONTAK_SEBELUMNYA  HASIL_SEBELUMNYA  \\\n",
       "0                       2                         1                 0   \n",
       "1                       2                         1                 1   \n",
       "2                       3                         3                 1   \n",
       "3                       1                         1                 0   \n",
       "4                       3                         1                 0   \n",
       "\n",
       "   DEPOSITO  PEKERJAAN_PRT  PEKERJAAN_administrasi  PEKERJAAN_buruh  \\\n",
       "0         0              0                       0                0   \n",
       "1         1              0                       1                0   \n",
       "2         1              0                       0                0   \n",
       "3         0              0                       0                1   \n",
       "4         0              0                       1                0   \n",
       "\n",
       "   PEKERJAAN_freelance  PEKERJAAN_karyawan  PEKERJAAN_mahasiswa  \\\n",
       "0                    0                   0                    0   \n",
       "1                    0                   0                    0   \n",
       "2                    0                   0                    0   \n",
       "3                    0                   0                    0   \n",
       "4                    0                   0                    0   \n",
       "\n",
       "   PEKERJAAN_pelayan  PEKERJAAN_pengangguran  PEKERJAAN_pensiunan  \\\n",
       "0                  0                       0                    0   \n",
       "1                  0                       0                    0   \n",
       "2                  0                       1                    0   \n",
       "3                  0                       0                    0   \n",
       "4                  0                       0                    0   \n",
       "\n",
       "   PEKERJAAN_teknisi  PEKERJAAN_wiraswasta  STATUS_PERKAWINAN_cerai  \\\n",
       "0                  0                     1                        0   \n",
       "1                  0                     0                        0   \n",
       "2                  0                     0                        1   \n",
       "3                  0                     0                        0   \n",
       "4                  0                     0                        0   \n",
       "\n",
       "   STATUS_PERKAWINAN_lajang  STATUS_PERKAWINAN_menikah  \n",
       "0                         0                          1  \n",
       "1                         1                          0  \n",
       "2                         0                          0  \n",
       "3                         1                          0  \n",
       "4                         1                          0  "
      ]
     },
     "execution_count": 25,
     "metadata": {},
     "output_type": "execute_result"
    }
   ],
   "source": [
    "# One Hot Encoding for categorical data\n",
    "data_categorical = pd.get_dummies(data)\n",
    "data_categorical.head()"
   ]
  },
  {
   "cell_type": "code",
   "execution_count": 26,
   "id": "c8a54e20",
   "metadata": {},
   "outputs": [],
   "source": [
    "# Drop data bentuk numeric karena akan dinormalisasi dulu\n",
    "data_drop = data_categorical.drop(data_numeric, axis =1) "
   ]
  },
  {
   "cell_type": "code",
   "execution_count": 27,
   "id": "665ce0f5",
   "metadata": {},
   "outputs": [
    {
     "data": {
      "text/html": [
       "<div>\n",
       "<style scoped>\n",
       "    .dataframe tbody tr th:only-of-type {\n",
       "        vertical-align: middle;\n",
       "    }\n",
       "\n",
       "    .dataframe tbody tr th {\n",
       "        vertical-align: top;\n",
       "    }\n",
       "\n",
       "    .dataframe thead th {\n",
       "        text-align: right;\n",
       "    }\n",
       "</style>\n",
       "<table border=\"1\" class=\"dataframe\">\n",
       "  <thead>\n",
       "    <tr style=\"text-align: right;\">\n",
       "      <th></th>\n",
       "      <th>KREDIT_RUMAH</th>\n",
       "      <th>PINJAMAN</th>\n",
       "      <th>MENGHUBUNGI_DENGAN</th>\n",
       "      <th>HASIL_SEBELUMNYA</th>\n",
       "      <th>DEPOSITO</th>\n",
       "      <th>PEKERJAAN_PRT</th>\n",
       "      <th>PEKERJAAN_administrasi</th>\n",
       "      <th>PEKERJAAN_buruh</th>\n",
       "      <th>PEKERJAAN_freelance</th>\n",
       "      <th>PEKERJAAN_karyawan</th>\n",
       "      <th>PEKERJAAN_mahasiswa</th>\n",
       "      <th>PEKERJAAN_pelayan</th>\n",
       "      <th>PEKERJAAN_pengangguran</th>\n",
       "      <th>PEKERJAAN_pensiunan</th>\n",
       "      <th>PEKERJAAN_teknisi</th>\n",
       "      <th>PEKERJAAN_wiraswasta</th>\n",
       "      <th>STATUS_PERKAWINAN_cerai</th>\n",
       "      <th>STATUS_PERKAWINAN_lajang</th>\n",
       "      <th>STATUS_PERKAWINAN_menikah</th>\n",
       "    </tr>\n",
       "  </thead>\n",
       "  <tbody>\n",
       "    <tr>\n",
       "      <th>0</th>\n",
       "      <td>0</td>\n",
       "      <td>0</td>\n",
       "      <td>0</td>\n",
       "      <td>0</td>\n",
       "      <td>0</td>\n",
       "      <td>0</td>\n",
       "      <td>0</td>\n",
       "      <td>0</td>\n",
       "      <td>0</td>\n",
       "      <td>0</td>\n",
       "      <td>0</td>\n",
       "      <td>0</td>\n",
       "      <td>0</td>\n",
       "      <td>0</td>\n",
       "      <td>0</td>\n",
       "      <td>1</td>\n",
       "      <td>0</td>\n",
       "      <td>0</td>\n",
       "      <td>1</td>\n",
       "    </tr>\n",
       "    <tr>\n",
       "      <th>1</th>\n",
       "      <td>0</td>\n",
       "      <td>1</td>\n",
       "      <td>1</td>\n",
       "      <td>1</td>\n",
       "      <td>1</td>\n",
       "      <td>0</td>\n",
       "      <td>1</td>\n",
       "      <td>0</td>\n",
       "      <td>0</td>\n",
       "      <td>0</td>\n",
       "      <td>0</td>\n",
       "      <td>0</td>\n",
       "      <td>0</td>\n",
       "      <td>0</td>\n",
       "      <td>0</td>\n",
       "      <td>0</td>\n",
       "      <td>0</td>\n",
       "      <td>1</td>\n",
       "      <td>0</td>\n",
       "    </tr>\n",
       "    <tr>\n",
       "      <th>2</th>\n",
       "      <td>0</td>\n",
       "      <td>0</td>\n",
       "      <td>1</td>\n",
       "      <td>1</td>\n",
       "      <td>1</td>\n",
       "      <td>0</td>\n",
       "      <td>0</td>\n",
       "      <td>0</td>\n",
       "      <td>0</td>\n",
       "      <td>0</td>\n",
       "      <td>0</td>\n",
       "      <td>0</td>\n",
       "      <td>1</td>\n",
       "      <td>0</td>\n",
       "      <td>0</td>\n",
       "      <td>0</td>\n",
       "      <td>1</td>\n",
       "      <td>0</td>\n",
       "      <td>0</td>\n",
       "    </tr>\n",
       "    <tr>\n",
       "      <th>3</th>\n",
       "      <td>1</td>\n",
       "      <td>0</td>\n",
       "      <td>1</td>\n",
       "      <td>0</td>\n",
       "      <td>0</td>\n",
       "      <td>0</td>\n",
       "      <td>0</td>\n",
       "      <td>1</td>\n",
       "      <td>0</td>\n",
       "      <td>0</td>\n",
       "      <td>0</td>\n",
       "      <td>0</td>\n",
       "      <td>0</td>\n",
       "      <td>0</td>\n",
       "      <td>0</td>\n",
       "      <td>0</td>\n",
       "      <td>0</td>\n",
       "      <td>1</td>\n",
       "      <td>0</td>\n",
       "    </tr>\n",
       "    <tr>\n",
       "      <th>4</th>\n",
       "      <td>1</td>\n",
       "      <td>0</td>\n",
       "      <td>1</td>\n",
       "      <td>0</td>\n",
       "      <td>0</td>\n",
       "      <td>0</td>\n",
       "      <td>1</td>\n",
       "      <td>0</td>\n",
       "      <td>0</td>\n",
       "      <td>0</td>\n",
       "      <td>0</td>\n",
       "      <td>0</td>\n",
       "      <td>0</td>\n",
       "      <td>0</td>\n",
       "      <td>0</td>\n",
       "      <td>0</td>\n",
       "      <td>0</td>\n",
       "      <td>1</td>\n",
       "      <td>0</td>\n",
       "    </tr>\n",
       "  </tbody>\n",
       "</table>\n",
       "</div>"
      ],
      "text/plain": [
       "   KREDIT_RUMAH  PINJAMAN  MENGHUBUNGI_DENGAN  HASIL_SEBELUMNYA  DEPOSITO  \\\n",
       "0             0         0                   0                 0         0   \n",
       "1             0         1                   1                 1         1   \n",
       "2             0         0                   1                 1         1   \n",
       "3             1         0                   1                 0         0   \n",
       "4             1         0                   1                 0         0   \n",
       "\n",
       "   PEKERJAAN_PRT  PEKERJAAN_administrasi  PEKERJAAN_buruh  \\\n",
       "0              0                       0                0   \n",
       "1              0                       1                0   \n",
       "2              0                       0                0   \n",
       "3              0                       0                1   \n",
       "4              0                       1                0   \n",
       "\n",
       "   PEKERJAAN_freelance  PEKERJAAN_karyawan  PEKERJAAN_mahasiswa  \\\n",
       "0                    0                   0                    0   \n",
       "1                    0                   0                    0   \n",
       "2                    0                   0                    0   \n",
       "3                    0                   0                    0   \n",
       "4                    0                   0                    0   \n",
       "\n",
       "   PEKERJAAN_pelayan  PEKERJAAN_pengangguran  PEKERJAAN_pensiunan  \\\n",
       "0                  0                       0                    0   \n",
       "1                  0                       0                    0   \n",
       "2                  0                       1                    0   \n",
       "3                  0                       0                    0   \n",
       "4                  0                       0                    0   \n",
       "\n",
       "   PEKERJAAN_teknisi  PEKERJAAN_wiraswasta  STATUS_PERKAWINAN_cerai  \\\n",
       "0                  0                     1                        0   \n",
       "1                  0                     0                        0   \n",
       "2                  0                     0                        1   \n",
       "3                  0                     0                        0   \n",
       "4                  0                     0                        0   \n",
       "\n",
       "   STATUS_PERKAWINAN_lajang  STATUS_PERKAWINAN_menikah  \n",
       "0                         0                          1  \n",
       "1                         1                          0  \n",
       "2                         0                          0  \n",
       "3                         1                          0  \n",
       "4                         1                          0  "
      ]
     },
     "execution_count": 27,
     "metadata": {},
     "output_type": "execute_result"
    }
   ],
   "source": [
    "data_drop.head()"
   ]
  },
  {
   "cell_type": "code",
   "execution_count": 28,
   "id": "8d8240de",
   "metadata": {},
   "outputs": [
    {
     "data": {
      "text/html": [
       "<div>\n",
       "<style scoped>\n",
       "    .dataframe tbody tr th:only-of-type {\n",
       "        vertical-align: middle;\n",
       "    }\n",
       "\n",
       "    .dataframe tbody tr th {\n",
       "        vertical-align: top;\n",
       "    }\n",
       "\n",
       "    .dataframe thead th {\n",
       "        text-align: right;\n",
       "    }\n",
       "</style>\n",
       "<table border=\"1\" class=\"dataframe\">\n",
       "  <thead>\n",
       "    <tr style=\"text-align: right;\">\n",
       "      <th></th>\n",
       "      <th>UMUR</th>\n",
       "      <th>PENDIDIKAN</th>\n",
       "      <th>LAMA_BICARA</th>\n",
       "      <th>JUMLAH_KONTAK_SEKARANG</th>\n",
       "      <th>JUMLAH_KONTAK_SEBELUMNYA</th>\n",
       "    </tr>\n",
       "  </thead>\n",
       "  <tbody>\n",
       "    <tr>\n",
       "      <th>count</th>\n",
       "      <td>4175.000000</td>\n",
       "      <td>4175.000000</td>\n",
       "      <td>4175.000000</td>\n",
       "      <td>4175.000000</td>\n",
       "      <td>4175.000000</td>\n",
       "    </tr>\n",
       "    <tr>\n",
       "      <th>mean</th>\n",
       "      <td>40.303952</td>\n",
       "      <td>3.297485</td>\n",
       "      <td>263.857964</td>\n",
       "      <td>1.959521</td>\n",
       "      <td>1.258683</td>\n",
       "    </tr>\n",
       "    <tr>\n",
       "      <th>std</th>\n",
       "      <td>12.333775</td>\n",
       "      <td>1.578373</td>\n",
       "      <td>238.215084</td>\n",
       "      <td>1.411005</td>\n",
       "      <td>0.634162</td>\n",
       "    </tr>\n",
       "    <tr>\n",
       "      <th>min</th>\n",
       "      <td>17.000000</td>\n",
       "      <td>0.000000</td>\n",
       "      <td>1.000000</td>\n",
       "      <td>1.000000</td>\n",
       "      <td>1.000000</td>\n",
       "    </tr>\n",
       "    <tr>\n",
       "      <th>25%</th>\n",
       "      <td>31.000000</td>\n",
       "      <td>2.000000</td>\n",
       "      <td>116.000000</td>\n",
       "      <td>1.000000</td>\n",
       "      <td>1.000000</td>\n",
       "    </tr>\n",
       "    <tr>\n",
       "      <th>50%</th>\n",
       "      <td>37.000000</td>\n",
       "      <td>3.000000</td>\n",
       "      <td>197.000000</td>\n",
       "      <td>1.000000</td>\n",
       "      <td>1.000000</td>\n",
       "    </tr>\n",
       "    <tr>\n",
       "      <th>75%</th>\n",
       "      <td>48.000000</td>\n",
       "      <td>5.000000</td>\n",
       "      <td>325.000000</td>\n",
       "      <td>2.000000</td>\n",
       "      <td>1.000000</td>\n",
       "    </tr>\n",
       "    <tr>\n",
       "      <th>max</th>\n",
       "      <td>91.000000</td>\n",
       "      <td>5.000000</td>\n",
       "      <td>3509.000000</td>\n",
       "      <td>16.000000</td>\n",
       "      <td>7.000000</td>\n",
       "    </tr>\n",
       "  </tbody>\n",
       "</table>\n",
       "</div>"
      ],
      "text/plain": [
       "              UMUR   PENDIDIKAN  LAMA_BICARA  JUMLAH_KONTAK_SEKARANG  \\\n",
       "count  4175.000000  4175.000000  4175.000000             4175.000000   \n",
       "mean     40.303952     3.297485   263.857964                1.959521   \n",
       "std      12.333775     1.578373   238.215084                1.411005   \n",
       "min      17.000000     0.000000     1.000000                1.000000   \n",
       "25%      31.000000     2.000000   116.000000                1.000000   \n",
       "50%      37.000000     3.000000   197.000000                1.000000   \n",
       "75%      48.000000     5.000000   325.000000                2.000000   \n",
       "max      91.000000     5.000000  3509.000000               16.000000   \n",
       "\n",
       "       JUMLAH_KONTAK_SEBELUMNYA  \n",
       "count               4175.000000  \n",
       "mean                   1.258683  \n",
       "std                    0.634162  \n",
       "min                    1.000000  \n",
       "25%                    1.000000  \n",
       "50%                    1.000000  \n",
       "75%                    1.000000  \n",
       "max                    7.000000  "
      ]
     },
     "execution_count": 28,
     "metadata": {},
     "output_type": "execute_result"
    }
   ],
   "source": [
    "data[data_numeric].describe()"
   ]
  },
  {
   "cell_type": "markdown",
   "id": "97b8e709",
   "metadata": {},
   "source": [
    "# Menggunakan Normalisasi \n",
    "Normalisasi digunakan untuk menghilangkan bias pada data sehingga data dengan range yang besar akan memberikan efek yang setara dengan data range lebih kecil. Misalkan umur range 17-91 tahun dengan gaji dengan range 10juta-100juta."
   ]
  },
  {
   "cell_type": "code",
   "execution_count": 29,
   "id": "89a1e5a7",
   "metadata": {},
   "outputs": [
    {
     "data": {
      "text/html": [
       "<div>\n",
       "<style scoped>\n",
       "    .dataframe tbody tr th:only-of-type {\n",
       "        vertical-align: middle;\n",
       "    }\n",
       "\n",
       "    .dataframe tbody tr th {\n",
       "        vertical-align: top;\n",
       "    }\n",
       "\n",
       "    .dataframe thead th {\n",
       "        text-align: right;\n",
       "    }\n",
       "</style>\n",
       "<table border=\"1\" class=\"dataframe\">\n",
       "  <thead>\n",
       "    <tr style=\"text-align: right;\">\n",
       "      <th></th>\n",
       "      <th>UMUR</th>\n",
       "      <th>PENDIDIKAN</th>\n",
       "      <th>LAMA_BICARA</th>\n",
       "      <th>JUMLAH_KONTAK_SEKARANG</th>\n",
       "      <th>JUMLAH_KONTAK_SEBELUMNYA</th>\n",
       "    </tr>\n",
       "  </thead>\n",
       "  <tbody>\n",
       "    <tr>\n",
       "      <th>0</th>\n",
       "      <td>0.270270</td>\n",
       "      <td>1.0</td>\n",
       "      <td>0.057298</td>\n",
       "      <td>0.066667</td>\n",
       "      <td>0.000000</td>\n",
       "    </tr>\n",
       "    <tr>\n",
       "      <th>1</th>\n",
       "      <td>0.229730</td>\n",
       "      <td>1.0</td>\n",
       "      <td>0.081813</td>\n",
       "      <td>0.066667</td>\n",
       "      <td>0.000000</td>\n",
       "    </tr>\n",
       "    <tr>\n",
       "      <th>2</th>\n",
       "      <td>0.513514</td>\n",
       "      <td>1.0</td>\n",
       "      <td>0.060148</td>\n",
       "      <td>0.133333</td>\n",
       "      <td>0.333333</td>\n",
       "    </tr>\n",
       "    <tr>\n",
       "      <th>3</th>\n",
       "      <td>0.216216</td>\n",
       "      <td>0.0</td>\n",
       "      <td>0.041334</td>\n",
       "      <td>0.000000</td>\n",
       "      <td>0.000000</td>\n",
       "    </tr>\n",
       "    <tr>\n",
       "      <th>4</th>\n",
       "      <td>0.391892</td>\n",
       "      <td>1.0</td>\n",
       "      <td>0.332098</td>\n",
       "      <td>0.133333</td>\n",
       "      <td>0.000000</td>\n",
       "    </tr>\n",
       "    <tr>\n",
       "      <th>5</th>\n",
       "      <td>0.364865</td>\n",
       "      <td>0.8</td>\n",
       "      <td>0.037913</td>\n",
       "      <td>0.000000</td>\n",
       "      <td>0.000000</td>\n",
       "    </tr>\n",
       "    <tr>\n",
       "      <th>6</th>\n",
       "      <td>0.229730</td>\n",
       "      <td>0.4</td>\n",
       "      <td>0.019669</td>\n",
       "      <td>0.000000</td>\n",
       "      <td>0.000000</td>\n",
       "    </tr>\n",
       "    <tr>\n",
       "      <th>7</th>\n",
       "      <td>0.324324</td>\n",
       "      <td>0.8</td>\n",
       "      <td>0.220353</td>\n",
       "      <td>0.066667</td>\n",
       "      <td>0.000000</td>\n",
       "    </tr>\n",
       "    <tr>\n",
       "      <th>8</th>\n",
       "      <td>0.391892</td>\n",
       "      <td>0.0</td>\n",
       "      <td>0.045895</td>\n",
       "      <td>0.000000</td>\n",
       "      <td>0.000000</td>\n",
       "    </tr>\n",
       "    <tr>\n",
       "      <th>9</th>\n",
       "      <td>0.243243</td>\n",
       "      <td>0.4</td>\n",
       "      <td>0.059863</td>\n",
       "      <td>0.000000</td>\n",
       "      <td>0.000000</td>\n",
       "    </tr>\n",
       "  </tbody>\n",
       "</table>\n",
       "</div>"
      ],
      "text/plain": [
       "       UMUR  PENDIDIKAN  LAMA_BICARA  JUMLAH_KONTAK_SEKARANG  \\\n",
       "0  0.270270         1.0     0.057298                0.066667   \n",
       "1  0.229730         1.0     0.081813                0.066667   \n",
       "2  0.513514         1.0     0.060148                0.133333   \n",
       "3  0.216216         0.0     0.041334                0.000000   \n",
       "4  0.391892         1.0     0.332098                0.133333   \n",
       "5  0.364865         0.8     0.037913                0.000000   \n",
       "6  0.229730         0.4     0.019669                0.000000   \n",
       "7  0.324324         0.8     0.220353                0.066667   \n",
       "8  0.391892         0.0     0.045895                0.000000   \n",
       "9  0.243243         0.4     0.059863                0.000000   \n",
       "\n",
       "   JUMLAH_KONTAK_SEBELUMNYA  \n",
       "0                  0.000000  \n",
       "1                  0.000000  \n",
       "2                  0.333333  \n",
       "3                  0.000000  \n",
       "4                  0.000000  \n",
       "5                  0.000000  \n",
       "6                  0.000000  \n",
       "7                  0.000000  \n",
       "8                  0.000000  \n",
       "9                  0.000000  "
      ]
     },
     "execution_count": 29,
     "metadata": {},
     "output_type": "execute_result"
    }
   ],
   "source": [
    "# Normalisasi data dalam bentuk numerik\n",
    "from sklearn import preprocessing\n",
    "\n",
    "scaler = preprocessing.MinMaxScaler()\n",
    "d = scaler.fit_transform(data[data_numeric])\n",
    "data_normalisasi = pd.DataFrame(d, columns=data[data_numeric].columns)\n",
    "data_normalisasi.head(10)"
   ]
  },
  {
   "cell_type": "code",
   "execution_count": 30,
   "id": "c54e211c",
   "metadata": {},
   "outputs": [
    {
     "data": {
      "text/html": [
       "<div>\n",
       "<style scoped>\n",
       "    .dataframe tbody tr th:only-of-type {\n",
       "        vertical-align: middle;\n",
       "    }\n",
       "\n",
       "    .dataframe tbody tr th {\n",
       "        vertical-align: top;\n",
       "    }\n",
       "\n",
       "    .dataframe thead th {\n",
       "        text-align: right;\n",
       "    }\n",
       "</style>\n",
       "<table border=\"1\" class=\"dataframe\">\n",
       "  <thead>\n",
       "    <tr style=\"text-align: right;\">\n",
       "      <th></th>\n",
       "      <th>UMUR</th>\n",
       "      <th>PENDIDIKAN</th>\n",
       "      <th>LAMA_BICARA</th>\n",
       "      <th>JUMLAH_KONTAK_SEKARANG</th>\n",
       "      <th>JUMLAH_KONTAK_SEBELUMNYA</th>\n",
       "    </tr>\n",
       "  </thead>\n",
       "  <tbody>\n",
       "    <tr>\n",
       "      <th>count</th>\n",
       "      <td>4175.000000</td>\n",
       "      <td>4175.000000</td>\n",
       "      <td>4175.000000</td>\n",
       "      <td>4175.000000</td>\n",
       "      <td>4175.000000</td>\n",
       "    </tr>\n",
       "    <tr>\n",
       "      <th>mean</th>\n",
       "      <td>0.314918</td>\n",
       "      <td>0.659497</td>\n",
       "      <td>0.074931</td>\n",
       "      <td>0.063968</td>\n",
       "      <td>0.043114</td>\n",
       "    </tr>\n",
       "    <tr>\n",
       "      <th>std</th>\n",
       "      <td>0.166673</td>\n",
       "      <td>0.315675</td>\n",
       "      <td>0.067906</td>\n",
       "      <td>0.094067</td>\n",
       "      <td>0.105694</td>\n",
       "    </tr>\n",
       "    <tr>\n",
       "      <th>min</th>\n",
       "      <td>0.000000</td>\n",
       "      <td>0.000000</td>\n",
       "      <td>0.000000</td>\n",
       "      <td>0.000000</td>\n",
       "      <td>0.000000</td>\n",
       "    </tr>\n",
       "    <tr>\n",
       "      <th>25%</th>\n",
       "      <td>0.189189</td>\n",
       "      <td>0.400000</td>\n",
       "      <td>0.032782</td>\n",
       "      <td>0.000000</td>\n",
       "      <td>0.000000</td>\n",
       "    </tr>\n",
       "    <tr>\n",
       "      <th>50%</th>\n",
       "      <td>0.270270</td>\n",
       "      <td>0.600000</td>\n",
       "      <td>0.055872</td>\n",
       "      <td>0.000000</td>\n",
       "      <td>0.000000</td>\n",
       "    </tr>\n",
       "    <tr>\n",
       "      <th>75%</th>\n",
       "      <td>0.418919</td>\n",
       "      <td>1.000000</td>\n",
       "      <td>0.092360</td>\n",
       "      <td>0.066667</td>\n",
       "      <td>0.000000</td>\n",
       "    </tr>\n",
       "    <tr>\n",
       "      <th>max</th>\n",
       "      <td>1.000000</td>\n",
       "      <td>1.000000</td>\n",
       "      <td>1.000000</td>\n",
       "      <td>1.000000</td>\n",
       "      <td>1.000000</td>\n",
       "    </tr>\n",
       "  </tbody>\n",
       "</table>\n",
       "</div>"
      ],
      "text/plain": [
       "              UMUR   PENDIDIKAN  LAMA_BICARA  JUMLAH_KONTAK_SEKARANG  \\\n",
       "count  4175.000000  4175.000000  4175.000000             4175.000000   \n",
       "mean      0.314918     0.659497     0.074931                0.063968   \n",
       "std       0.166673     0.315675     0.067906                0.094067   \n",
       "min       0.000000     0.000000     0.000000                0.000000   \n",
       "25%       0.189189     0.400000     0.032782                0.000000   \n",
       "50%       0.270270     0.600000     0.055872                0.000000   \n",
       "75%       0.418919     1.000000     0.092360                0.066667   \n",
       "max       1.000000     1.000000     1.000000                1.000000   \n",
       "\n",
       "       JUMLAH_KONTAK_SEBELUMNYA  \n",
       "count               4175.000000  \n",
       "mean                   0.043114  \n",
       "std                    0.105694  \n",
       "min                    0.000000  \n",
       "25%                    0.000000  \n",
       "50%                    0.000000  \n",
       "75%                    0.000000  \n",
       "max                    1.000000  "
      ]
     },
     "execution_count": 30,
     "metadata": {},
     "output_type": "execute_result"
    }
   ],
   "source": [
    "data_normalisasi.describe()"
   ]
  },
  {
   "cell_type": "code",
   "execution_count": 31,
   "id": "6e33f7ff",
   "metadata": {},
   "outputs": [
    {
     "data": {
      "text/html": [
       "<div>\n",
       "<style scoped>\n",
       "    .dataframe tbody tr th:only-of-type {\n",
       "        vertical-align: middle;\n",
       "    }\n",
       "\n",
       "    .dataframe tbody tr th {\n",
       "        vertical-align: top;\n",
       "    }\n",
       "\n",
       "    .dataframe thead th {\n",
       "        text-align: right;\n",
       "    }\n",
       "</style>\n",
       "<table border=\"1\" class=\"dataframe\">\n",
       "  <thead>\n",
       "    <tr style=\"text-align: right;\">\n",
       "      <th></th>\n",
       "      <th>UMUR</th>\n",
       "      <th>PENDIDIKAN</th>\n",
       "      <th>LAMA_BICARA</th>\n",
       "      <th>JUMLAH_KONTAK_SEKARANG</th>\n",
       "      <th>JUMLAH_KONTAK_SEBELUMNYA</th>\n",
       "      <th>KREDIT_RUMAH</th>\n",
       "      <th>PINJAMAN</th>\n",
       "      <th>MENGHUBUNGI_DENGAN</th>\n",
       "      <th>HASIL_SEBELUMNYA</th>\n",
       "      <th>DEPOSITO</th>\n",
       "      <th>PEKERJAAN_PRT</th>\n",
       "      <th>PEKERJAAN_administrasi</th>\n",
       "      <th>PEKERJAAN_buruh</th>\n",
       "      <th>PEKERJAAN_freelance</th>\n",
       "      <th>PEKERJAAN_karyawan</th>\n",
       "      <th>PEKERJAAN_mahasiswa</th>\n",
       "      <th>PEKERJAAN_pelayan</th>\n",
       "      <th>PEKERJAAN_pengangguran</th>\n",
       "      <th>PEKERJAAN_pensiunan</th>\n",
       "      <th>PEKERJAAN_teknisi</th>\n",
       "      <th>PEKERJAAN_wiraswasta</th>\n",
       "      <th>STATUS_PERKAWINAN_cerai</th>\n",
       "      <th>STATUS_PERKAWINAN_lajang</th>\n",
       "      <th>STATUS_PERKAWINAN_menikah</th>\n",
       "    </tr>\n",
       "  </thead>\n",
       "  <tbody>\n",
       "    <tr>\n",
       "      <th>0</th>\n",
       "      <td>0.270270</td>\n",
       "      <td>1.0</td>\n",
       "      <td>0.057298</td>\n",
       "      <td>0.066667</td>\n",
       "      <td>0.000000</td>\n",
       "      <td>0</td>\n",
       "      <td>0</td>\n",
       "      <td>0</td>\n",
       "      <td>0</td>\n",
       "      <td>0</td>\n",
       "      <td>0</td>\n",
       "      <td>0</td>\n",
       "      <td>0</td>\n",
       "      <td>0</td>\n",
       "      <td>0</td>\n",
       "      <td>0</td>\n",
       "      <td>0</td>\n",
       "      <td>0</td>\n",
       "      <td>0</td>\n",
       "      <td>0</td>\n",
       "      <td>1</td>\n",
       "      <td>0</td>\n",
       "      <td>0</td>\n",
       "      <td>1</td>\n",
       "    </tr>\n",
       "    <tr>\n",
       "      <th>1</th>\n",
       "      <td>0.229730</td>\n",
       "      <td>1.0</td>\n",
       "      <td>0.081813</td>\n",
       "      <td>0.066667</td>\n",
       "      <td>0.000000</td>\n",
       "      <td>0</td>\n",
       "      <td>1</td>\n",
       "      <td>1</td>\n",
       "      <td>1</td>\n",
       "      <td>1</td>\n",
       "      <td>0</td>\n",
       "      <td>1</td>\n",
       "      <td>0</td>\n",
       "      <td>0</td>\n",
       "      <td>0</td>\n",
       "      <td>0</td>\n",
       "      <td>0</td>\n",
       "      <td>0</td>\n",
       "      <td>0</td>\n",
       "      <td>0</td>\n",
       "      <td>0</td>\n",
       "      <td>0</td>\n",
       "      <td>1</td>\n",
       "      <td>0</td>\n",
       "    </tr>\n",
       "    <tr>\n",
       "      <th>2</th>\n",
       "      <td>0.513514</td>\n",
       "      <td>1.0</td>\n",
       "      <td>0.060148</td>\n",
       "      <td>0.133333</td>\n",
       "      <td>0.333333</td>\n",
       "      <td>0</td>\n",
       "      <td>0</td>\n",
       "      <td>1</td>\n",
       "      <td>1</td>\n",
       "      <td>1</td>\n",
       "      <td>0</td>\n",
       "      <td>0</td>\n",
       "      <td>0</td>\n",
       "      <td>0</td>\n",
       "      <td>0</td>\n",
       "      <td>0</td>\n",
       "      <td>0</td>\n",
       "      <td>1</td>\n",
       "      <td>0</td>\n",
       "      <td>0</td>\n",
       "      <td>0</td>\n",
       "      <td>1</td>\n",
       "      <td>0</td>\n",
       "      <td>0</td>\n",
       "    </tr>\n",
       "    <tr>\n",
       "      <th>3</th>\n",
       "      <td>0.216216</td>\n",
       "      <td>0.0</td>\n",
       "      <td>0.041334</td>\n",
       "      <td>0.000000</td>\n",
       "      <td>0.000000</td>\n",
       "      <td>1</td>\n",
       "      <td>0</td>\n",
       "      <td>1</td>\n",
       "      <td>0</td>\n",
       "      <td>0</td>\n",
       "      <td>0</td>\n",
       "      <td>0</td>\n",
       "      <td>1</td>\n",
       "      <td>0</td>\n",
       "      <td>0</td>\n",
       "      <td>0</td>\n",
       "      <td>0</td>\n",
       "      <td>0</td>\n",
       "      <td>0</td>\n",
       "      <td>0</td>\n",
       "      <td>0</td>\n",
       "      <td>0</td>\n",
       "      <td>1</td>\n",
       "      <td>0</td>\n",
       "    </tr>\n",
       "    <tr>\n",
       "      <th>4</th>\n",
       "      <td>0.391892</td>\n",
       "      <td>1.0</td>\n",
       "      <td>0.332098</td>\n",
       "      <td>0.133333</td>\n",
       "      <td>0.000000</td>\n",
       "      <td>1</td>\n",
       "      <td>0</td>\n",
       "      <td>1</td>\n",
       "      <td>0</td>\n",
       "      <td>0</td>\n",
       "      <td>0</td>\n",
       "      <td>1</td>\n",
       "      <td>0</td>\n",
       "      <td>0</td>\n",
       "      <td>0</td>\n",
       "      <td>0</td>\n",
       "      <td>0</td>\n",
       "      <td>0</td>\n",
       "      <td>0</td>\n",
       "      <td>0</td>\n",
       "      <td>0</td>\n",
       "      <td>0</td>\n",
       "      <td>1</td>\n",
       "      <td>0</td>\n",
       "    </tr>\n",
       "  </tbody>\n",
       "</table>\n",
       "</div>"
      ],
      "text/plain": [
       "       UMUR  PENDIDIKAN  LAMA_BICARA  JUMLAH_KONTAK_SEKARANG  \\\n",
       "0  0.270270         1.0     0.057298                0.066667   \n",
       "1  0.229730         1.0     0.081813                0.066667   \n",
       "2  0.513514         1.0     0.060148                0.133333   \n",
       "3  0.216216         0.0     0.041334                0.000000   \n",
       "4  0.391892         1.0     0.332098                0.133333   \n",
       "\n",
       "   JUMLAH_KONTAK_SEBELUMNYA  KREDIT_RUMAH  PINJAMAN  MENGHUBUNGI_DENGAN  \\\n",
       "0                  0.000000             0         0                   0   \n",
       "1                  0.000000             0         1                   1   \n",
       "2                  0.333333             0         0                   1   \n",
       "3                  0.000000             1         0                   1   \n",
       "4                  0.000000             1         0                   1   \n",
       "\n",
       "   HASIL_SEBELUMNYA  DEPOSITO  PEKERJAAN_PRT  PEKERJAAN_administrasi  \\\n",
       "0                 0         0              0                       0   \n",
       "1                 1         1              0                       1   \n",
       "2                 1         1              0                       0   \n",
       "3                 0         0              0                       0   \n",
       "4                 0         0              0                       1   \n",
       "\n",
       "   PEKERJAAN_buruh  PEKERJAAN_freelance  PEKERJAAN_karyawan  \\\n",
       "0                0                    0                   0   \n",
       "1                0                    0                   0   \n",
       "2                0                    0                   0   \n",
       "3                1                    0                   0   \n",
       "4                0                    0                   0   \n",
       "\n",
       "   PEKERJAAN_mahasiswa  PEKERJAAN_pelayan  PEKERJAAN_pengangguran  \\\n",
       "0                    0                  0                       0   \n",
       "1                    0                  0                       0   \n",
       "2                    0                  0                       1   \n",
       "3                    0                  0                       0   \n",
       "4                    0                  0                       0   \n",
       "\n",
       "   PEKERJAAN_pensiunan  PEKERJAAN_teknisi  PEKERJAAN_wiraswasta  \\\n",
       "0                    0                  0                     1   \n",
       "1                    0                  0                     0   \n",
       "2                    0                  0                     0   \n",
       "3                    0                  0                     0   \n",
       "4                    0                  0                     0   \n",
       "\n",
       "   STATUS_PERKAWINAN_cerai  STATUS_PERKAWINAN_lajang  \\\n",
       "0                        0                         0   \n",
       "1                        0                         1   \n",
       "2                        1                         0   \n",
       "3                        0                         1   \n",
       "4                        0                         1   \n",
       "\n",
       "   STATUS_PERKAWINAN_menikah  \n",
       "0                          1  \n",
       "1                          0  \n",
       "2                          0  \n",
       "3                          0  \n",
       "4                          0  "
      ]
     },
     "execution_count": 31,
     "metadata": {},
     "output_type": "execute_result"
    }
   ],
   "source": [
    "data_fix = pd.concat([data_normalisasi, data_drop], axis=1, join='inner')\n",
    "data_fix.head()"
   ]
  },
  {
   "cell_type": "code",
   "execution_count": 32,
   "id": "839bca6f",
   "metadata": {},
   "outputs": [],
   "source": [
    "X = data_fix.drop(['DEPOSITO'], axis =1) \n",
    "y = data_fix['DEPOSITO']"
   ]
  },
  {
   "cell_type": "markdown",
   "id": "2b8a8b15",
   "metadata": {},
   "source": [
    "# Membagi data menjadi data training dan testing"
   ]
  },
  {
   "cell_type": "code",
   "execution_count": 33,
   "id": "237534ab",
   "metadata": {},
   "outputs": [],
   "source": [
    "from sklearn.model_selection import train_test_split"
   ]
  },
  {
   "cell_type": "code",
   "execution_count": 34,
   "id": "e226d5d3",
   "metadata": {},
   "outputs": [],
   "source": [
    "X_train, X_test, y_train, y_test = train_test_split(X,y,test_size=0.2)"
   ]
  },
  {
   "cell_type": "markdown",
   "id": "e4dc5693",
   "metadata": {},
   "source": [
    "# Menggunakan Support Vector Machine (SVM)"
   ]
  },
  {
   "cell_type": "code",
   "execution_count": 35,
   "id": "efdf1652",
   "metadata": {},
   "outputs": [],
   "source": [
    "from sklearn.svm import SVC\n",
    "model_svm = SVC()"
   ]
  },
  {
   "cell_type": "code",
   "execution_count": 36,
   "id": "d7da4d9b",
   "metadata": {},
   "outputs": [
    {
     "data": {
      "text/html": [
       "<style>#sk-container-id-1 {color: black;background-color: white;}#sk-container-id-1 pre{padding: 0;}#sk-container-id-1 div.sk-toggleable {background-color: white;}#sk-container-id-1 label.sk-toggleable__label {cursor: pointer;display: block;width: 100%;margin-bottom: 0;padding: 0.3em;box-sizing: border-box;text-align: center;}#sk-container-id-1 label.sk-toggleable__label-arrow:before {content: \"▸\";float: left;margin-right: 0.25em;color: #696969;}#sk-container-id-1 label.sk-toggleable__label-arrow:hover:before {color: black;}#sk-container-id-1 div.sk-estimator:hover label.sk-toggleable__label-arrow:before {color: black;}#sk-container-id-1 div.sk-toggleable__content {max-height: 0;max-width: 0;overflow: hidden;text-align: left;background-color: #f0f8ff;}#sk-container-id-1 div.sk-toggleable__content pre {margin: 0.2em;color: black;border-radius: 0.25em;background-color: #f0f8ff;}#sk-container-id-1 input.sk-toggleable__control:checked~div.sk-toggleable__content {max-height: 200px;max-width: 100%;overflow: auto;}#sk-container-id-1 input.sk-toggleable__control:checked~label.sk-toggleable__label-arrow:before {content: \"▾\";}#sk-container-id-1 div.sk-estimator input.sk-toggleable__control:checked~label.sk-toggleable__label {background-color: #d4ebff;}#sk-container-id-1 div.sk-label input.sk-toggleable__control:checked~label.sk-toggleable__label {background-color: #d4ebff;}#sk-container-id-1 input.sk-hidden--visually {border: 0;clip: rect(1px 1px 1px 1px);clip: rect(1px, 1px, 1px, 1px);height: 1px;margin: -1px;overflow: hidden;padding: 0;position: absolute;width: 1px;}#sk-container-id-1 div.sk-estimator {font-family: monospace;background-color: #f0f8ff;border: 1px dotted black;border-radius: 0.25em;box-sizing: border-box;margin-bottom: 0.5em;}#sk-container-id-1 div.sk-estimator:hover {background-color: #d4ebff;}#sk-container-id-1 div.sk-parallel-item::after {content: \"\";width: 100%;border-bottom: 1px solid gray;flex-grow: 1;}#sk-container-id-1 div.sk-label:hover label.sk-toggleable__label {background-color: #d4ebff;}#sk-container-id-1 div.sk-serial::before {content: \"\";position: absolute;border-left: 1px solid gray;box-sizing: border-box;top: 0;bottom: 0;left: 50%;z-index: 0;}#sk-container-id-1 div.sk-serial {display: flex;flex-direction: column;align-items: center;background-color: white;padding-right: 0.2em;padding-left: 0.2em;position: relative;}#sk-container-id-1 div.sk-item {position: relative;z-index: 1;}#sk-container-id-1 div.sk-parallel {display: flex;align-items: stretch;justify-content: center;background-color: white;position: relative;}#sk-container-id-1 div.sk-item::before, #sk-container-id-1 div.sk-parallel-item::before {content: \"\";position: absolute;border-left: 1px solid gray;box-sizing: border-box;top: 0;bottom: 0;left: 50%;z-index: -1;}#sk-container-id-1 div.sk-parallel-item {display: flex;flex-direction: column;z-index: 1;position: relative;background-color: white;}#sk-container-id-1 div.sk-parallel-item:first-child::after {align-self: flex-end;width: 50%;}#sk-container-id-1 div.sk-parallel-item:last-child::after {align-self: flex-start;width: 50%;}#sk-container-id-1 div.sk-parallel-item:only-child::after {width: 0;}#sk-container-id-1 div.sk-dashed-wrapped {border: 1px dashed gray;margin: 0 0.4em 0.5em 0.4em;box-sizing: border-box;padding-bottom: 0.4em;background-color: white;}#sk-container-id-1 div.sk-label label {font-family: monospace;font-weight: bold;display: inline-block;line-height: 1.2em;}#sk-container-id-1 div.sk-label-container {text-align: center;}#sk-container-id-1 div.sk-container {/* jupyter's `normalize.less` sets `[hidden] { display: none; }` but bootstrap.min.css set `[hidden] { display: none !important; }` so we also need the `!important` here to be able to override the default hidden behavior on the sphinx rendered scikit-learn.org. See: https://github.com/scikit-learn/scikit-learn/issues/21755 */display: inline-block !important;position: relative;}#sk-container-id-1 div.sk-text-repr-fallback {display: none;}</style><div id=\"sk-container-id-1\" class=\"sk-top-container\"><div class=\"sk-text-repr-fallback\"><pre>SVC()</pre><b>In a Jupyter environment, please rerun this cell to show the HTML representation or trust the notebook. <br />On GitHub, the HTML representation is unable to render, please try loading this page with nbviewer.org.</b></div><div class=\"sk-container\" hidden><div class=\"sk-item\"><div class=\"sk-estimator sk-toggleable\"><input class=\"sk-toggleable__control sk-hidden--visually\" id=\"sk-estimator-id-1\" type=\"checkbox\" checked><label for=\"sk-estimator-id-1\" class=\"sk-toggleable__label sk-toggleable__label-arrow\">SVC</label><div class=\"sk-toggleable__content\"><pre>SVC()</pre></div></div></div></div></div>"
      ],
      "text/plain": [
       "SVC()"
      ]
     },
     "execution_count": 36,
     "metadata": {},
     "output_type": "execute_result"
    }
   ],
   "source": [
    "model_svm.fit(X_train,y_train)"
   ]
  },
  {
   "cell_type": "code",
   "execution_count": 37,
   "id": "05199f7e",
   "metadata": {},
   "outputs": [
    {
     "data": {
      "text/plain": [
       "0.8179640718562874"
      ]
     },
     "execution_count": 37,
     "metadata": {},
     "output_type": "execute_result"
    }
   ],
   "source": [
    "model_svm.score(X_test,y_test)"
   ]
  },
  {
   "cell_type": "markdown",
   "id": "1efb3365",
   "metadata": {},
   "source": [
    "# KFold SVM"
   ]
  },
  {
   "cell_type": "code",
   "execution_count": 38,
   "id": "a4b2e495",
   "metadata": {},
   "outputs": [],
   "source": [
    "from sklearn.model_selection import KFold\n",
    "from sklearn.model_selection import cross_val_score\n",
    "k_fold = KFold(n_splits=5, shuffle=True, random_state=0)"
   ]
  },
  {
   "cell_type": "code",
   "execution_count": 39,
   "id": "9fd9c225",
   "metadata": {},
   "outputs": [
    {
     "name": "stdout",
     "output_type": "stream",
     "text": [
      "[0.80479042 0.80958084 0.78323353 0.8239521  0.8251497 ]\n"
     ]
    }
   ],
   "source": [
    "score_svm = cross_val_score(model_svm,X,y,cv=k_fold,n_jobs=1,scoring='accuracy')\n",
    "print(score_svm)"
   ]
  },
  {
   "cell_type": "code",
   "execution_count": 40,
   "id": "38b7a030",
   "metadata": {},
   "outputs": [
    {
     "data": {
      "text/plain": [
       "80.93413173652694"
      ]
     },
     "execution_count": 40,
     "metadata": {},
     "output_type": "execute_result"
    }
   ],
   "source": [
    "score_svm.mean()*100"
   ]
  },
  {
   "cell_type": "markdown",
   "id": "748b554c",
   "metadata": {},
   "source": [
    "# Menggunakan Regresi Logistik"
   ]
  },
  {
   "cell_type": "code",
   "execution_count": 41,
   "id": "13dff78d",
   "metadata": {},
   "outputs": [],
   "source": [
    "from sklearn.linear_model import LogisticRegression"
   ]
  },
  {
   "cell_type": "code",
   "execution_count": 42,
   "id": "0cd775e1",
   "metadata": {},
   "outputs": [],
   "source": [
    "model_lr = LogisticRegression()"
   ]
  },
  {
   "cell_type": "code",
   "execution_count": 43,
   "id": "94aec16f",
   "metadata": {},
   "outputs": [
    {
     "data": {
      "text/html": [
       "<style>#sk-container-id-2 {color: black;background-color: white;}#sk-container-id-2 pre{padding: 0;}#sk-container-id-2 div.sk-toggleable {background-color: white;}#sk-container-id-2 label.sk-toggleable__label {cursor: pointer;display: block;width: 100%;margin-bottom: 0;padding: 0.3em;box-sizing: border-box;text-align: center;}#sk-container-id-2 label.sk-toggleable__label-arrow:before {content: \"▸\";float: left;margin-right: 0.25em;color: #696969;}#sk-container-id-2 label.sk-toggleable__label-arrow:hover:before {color: black;}#sk-container-id-2 div.sk-estimator:hover label.sk-toggleable__label-arrow:before {color: black;}#sk-container-id-2 div.sk-toggleable__content {max-height: 0;max-width: 0;overflow: hidden;text-align: left;background-color: #f0f8ff;}#sk-container-id-2 div.sk-toggleable__content pre {margin: 0.2em;color: black;border-radius: 0.25em;background-color: #f0f8ff;}#sk-container-id-2 input.sk-toggleable__control:checked~div.sk-toggleable__content {max-height: 200px;max-width: 100%;overflow: auto;}#sk-container-id-2 input.sk-toggleable__control:checked~label.sk-toggleable__label-arrow:before {content: \"▾\";}#sk-container-id-2 div.sk-estimator input.sk-toggleable__control:checked~label.sk-toggleable__label {background-color: #d4ebff;}#sk-container-id-2 div.sk-label input.sk-toggleable__control:checked~label.sk-toggleable__label {background-color: #d4ebff;}#sk-container-id-2 input.sk-hidden--visually {border: 0;clip: rect(1px 1px 1px 1px);clip: rect(1px, 1px, 1px, 1px);height: 1px;margin: -1px;overflow: hidden;padding: 0;position: absolute;width: 1px;}#sk-container-id-2 div.sk-estimator {font-family: monospace;background-color: #f0f8ff;border: 1px dotted black;border-radius: 0.25em;box-sizing: border-box;margin-bottom: 0.5em;}#sk-container-id-2 div.sk-estimator:hover {background-color: #d4ebff;}#sk-container-id-2 div.sk-parallel-item::after {content: \"\";width: 100%;border-bottom: 1px solid gray;flex-grow: 1;}#sk-container-id-2 div.sk-label:hover label.sk-toggleable__label {background-color: #d4ebff;}#sk-container-id-2 div.sk-serial::before {content: \"\";position: absolute;border-left: 1px solid gray;box-sizing: border-box;top: 0;bottom: 0;left: 50%;z-index: 0;}#sk-container-id-2 div.sk-serial {display: flex;flex-direction: column;align-items: center;background-color: white;padding-right: 0.2em;padding-left: 0.2em;position: relative;}#sk-container-id-2 div.sk-item {position: relative;z-index: 1;}#sk-container-id-2 div.sk-parallel {display: flex;align-items: stretch;justify-content: center;background-color: white;position: relative;}#sk-container-id-2 div.sk-item::before, #sk-container-id-2 div.sk-parallel-item::before {content: \"\";position: absolute;border-left: 1px solid gray;box-sizing: border-box;top: 0;bottom: 0;left: 50%;z-index: -1;}#sk-container-id-2 div.sk-parallel-item {display: flex;flex-direction: column;z-index: 1;position: relative;background-color: white;}#sk-container-id-2 div.sk-parallel-item:first-child::after {align-self: flex-end;width: 50%;}#sk-container-id-2 div.sk-parallel-item:last-child::after {align-self: flex-start;width: 50%;}#sk-container-id-2 div.sk-parallel-item:only-child::after {width: 0;}#sk-container-id-2 div.sk-dashed-wrapped {border: 1px dashed gray;margin: 0 0.4em 0.5em 0.4em;box-sizing: border-box;padding-bottom: 0.4em;background-color: white;}#sk-container-id-2 div.sk-label label {font-family: monospace;font-weight: bold;display: inline-block;line-height: 1.2em;}#sk-container-id-2 div.sk-label-container {text-align: center;}#sk-container-id-2 div.sk-container {/* jupyter's `normalize.less` sets `[hidden] { display: none; }` but bootstrap.min.css set `[hidden] { display: none !important; }` so we also need the `!important` here to be able to override the default hidden behavior on the sphinx rendered scikit-learn.org. See: https://github.com/scikit-learn/scikit-learn/issues/21755 */display: inline-block !important;position: relative;}#sk-container-id-2 div.sk-text-repr-fallback {display: none;}</style><div id=\"sk-container-id-2\" class=\"sk-top-container\"><div class=\"sk-text-repr-fallback\"><pre>LogisticRegression()</pre><b>In a Jupyter environment, please rerun this cell to show the HTML representation or trust the notebook. <br />On GitHub, the HTML representation is unable to render, please try loading this page with nbviewer.org.</b></div><div class=\"sk-container\" hidden><div class=\"sk-item\"><div class=\"sk-estimator sk-toggleable\"><input class=\"sk-toggleable__control sk-hidden--visually\" id=\"sk-estimator-id-2\" type=\"checkbox\" checked><label for=\"sk-estimator-id-2\" class=\"sk-toggleable__label sk-toggleable__label-arrow\">LogisticRegression</label><div class=\"sk-toggleable__content\"><pre>LogisticRegression()</pre></div></div></div></div></div>"
      ],
      "text/plain": [
       "LogisticRegression()"
      ]
     },
     "execution_count": 43,
     "metadata": {},
     "output_type": "execute_result"
    }
   ],
   "source": [
    "model_lr.fit(X_train,y_train)"
   ]
  },
  {
   "cell_type": "code",
   "execution_count": 44,
   "id": "35f3ba3f",
   "metadata": {},
   "outputs": [
    {
     "data": {
      "text/plain": [
       "0.829940119760479"
      ]
     },
     "execution_count": 44,
     "metadata": {},
     "output_type": "execute_result"
    }
   ],
   "source": [
    "model_lr.score(X_test,y_test)"
   ]
  },
  {
   "cell_type": "markdown",
   "id": "00f36f24",
   "metadata": {},
   "source": [
    "# KFold Regresi Logistik"
   ]
  },
  {
   "cell_type": "code",
   "execution_count": 45,
   "id": "06e8a5a5",
   "metadata": {},
   "outputs": [
    {
     "name": "stdout",
     "output_type": "stream",
     "text": [
      "[0.81077844 0.83473054 0.79281437 0.84790419 0.83712575]\n"
     ]
    }
   ],
   "source": [
    "score_lr = cross_val_score(model_lr,X,y,cv=k_fold,n_jobs=1,scoring='accuracy')\n",
    "print(score_lr)"
   ]
  },
  {
   "cell_type": "code",
   "execution_count": 46,
   "id": "94742cef",
   "metadata": {},
   "outputs": [
    {
     "data": {
      "text/plain": [
       "82.46706586826346"
      ]
     },
     "execution_count": 46,
     "metadata": {},
     "output_type": "execute_result"
    }
   ],
   "source": [
    "score_lr.mean()*100"
   ]
  },
  {
   "cell_type": "markdown",
   "id": "9b028133",
   "metadata": {},
   "source": [
    "# Menggunakan K-Nearest Neighbors (KNN)"
   ]
  },
  {
   "cell_type": "code",
   "execution_count": 47,
   "id": "9b0d7106",
   "metadata": {},
   "outputs": [
    {
     "data": {
      "text/html": [
       "<style>#sk-container-id-3 {color: black;background-color: white;}#sk-container-id-3 pre{padding: 0;}#sk-container-id-3 div.sk-toggleable {background-color: white;}#sk-container-id-3 label.sk-toggleable__label {cursor: pointer;display: block;width: 100%;margin-bottom: 0;padding: 0.3em;box-sizing: border-box;text-align: center;}#sk-container-id-3 label.sk-toggleable__label-arrow:before {content: \"▸\";float: left;margin-right: 0.25em;color: #696969;}#sk-container-id-3 label.sk-toggleable__label-arrow:hover:before {color: black;}#sk-container-id-3 div.sk-estimator:hover label.sk-toggleable__label-arrow:before {color: black;}#sk-container-id-3 div.sk-toggleable__content {max-height: 0;max-width: 0;overflow: hidden;text-align: left;background-color: #f0f8ff;}#sk-container-id-3 div.sk-toggleable__content pre {margin: 0.2em;color: black;border-radius: 0.25em;background-color: #f0f8ff;}#sk-container-id-3 input.sk-toggleable__control:checked~div.sk-toggleable__content {max-height: 200px;max-width: 100%;overflow: auto;}#sk-container-id-3 input.sk-toggleable__control:checked~label.sk-toggleable__label-arrow:before {content: \"▾\";}#sk-container-id-3 div.sk-estimator input.sk-toggleable__control:checked~label.sk-toggleable__label {background-color: #d4ebff;}#sk-container-id-3 div.sk-label input.sk-toggleable__control:checked~label.sk-toggleable__label {background-color: #d4ebff;}#sk-container-id-3 input.sk-hidden--visually {border: 0;clip: rect(1px 1px 1px 1px);clip: rect(1px, 1px, 1px, 1px);height: 1px;margin: -1px;overflow: hidden;padding: 0;position: absolute;width: 1px;}#sk-container-id-3 div.sk-estimator {font-family: monospace;background-color: #f0f8ff;border: 1px dotted black;border-radius: 0.25em;box-sizing: border-box;margin-bottom: 0.5em;}#sk-container-id-3 div.sk-estimator:hover {background-color: #d4ebff;}#sk-container-id-3 div.sk-parallel-item::after {content: \"\";width: 100%;border-bottom: 1px solid gray;flex-grow: 1;}#sk-container-id-3 div.sk-label:hover label.sk-toggleable__label {background-color: #d4ebff;}#sk-container-id-3 div.sk-serial::before {content: \"\";position: absolute;border-left: 1px solid gray;box-sizing: border-box;top: 0;bottom: 0;left: 50%;z-index: 0;}#sk-container-id-3 div.sk-serial {display: flex;flex-direction: column;align-items: center;background-color: white;padding-right: 0.2em;padding-left: 0.2em;position: relative;}#sk-container-id-3 div.sk-item {position: relative;z-index: 1;}#sk-container-id-3 div.sk-parallel {display: flex;align-items: stretch;justify-content: center;background-color: white;position: relative;}#sk-container-id-3 div.sk-item::before, #sk-container-id-3 div.sk-parallel-item::before {content: \"\";position: absolute;border-left: 1px solid gray;box-sizing: border-box;top: 0;bottom: 0;left: 50%;z-index: -1;}#sk-container-id-3 div.sk-parallel-item {display: flex;flex-direction: column;z-index: 1;position: relative;background-color: white;}#sk-container-id-3 div.sk-parallel-item:first-child::after {align-self: flex-end;width: 50%;}#sk-container-id-3 div.sk-parallel-item:last-child::after {align-self: flex-start;width: 50%;}#sk-container-id-3 div.sk-parallel-item:only-child::after {width: 0;}#sk-container-id-3 div.sk-dashed-wrapped {border: 1px dashed gray;margin: 0 0.4em 0.5em 0.4em;box-sizing: border-box;padding-bottom: 0.4em;background-color: white;}#sk-container-id-3 div.sk-label label {font-family: monospace;font-weight: bold;display: inline-block;line-height: 1.2em;}#sk-container-id-3 div.sk-label-container {text-align: center;}#sk-container-id-3 div.sk-container {/* jupyter's `normalize.less` sets `[hidden] { display: none; }` but bootstrap.min.css set `[hidden] { display: none !important; }` so we also need the `!important` here to be able to override the default hidden behavior on the sphinx rendered scikit-learn.org. See: https://github.com/scikit-learn/scikit-learn/issues/21755 */display: inline-block !important;position: relative;}#sk-container-id-3 div.sk-text-repr-fallback {display: none;}</style><div id=\"sk-container-id-3\" class=\"sk-top-container\"><div class=\"sk-text-repr-fallback\"><pre>KNeighborsClassifier(n_neighbors=3)</pre><b>In a Jupyter environment, please rerun this cell to show the HTML representation or trust the notebook. <br />On GitHub, the HTML representation is unable to render, please try loading this page with nbviewer.org.</b></div><div class=\"sk-container\" hidden><div class=\"sk-item\"><div class=\"sk-estimator sk-toggleable\"><input class=\"sk-toggleable__control sk-hidden--visually\" id=\"sk-estimator-id-3\" type=\"checkbox\" checked><label for=\"sk-estimator-id-3\" class=\"sk-toggleable__label sk-toggleable__label-arrow\">KNeighborsClassifier</label><div class=\"sk-toggleable__content\"><pre>KNeighborsClassifier(n_neighbors=3)</pre></div></div></div></div></div>"
      ],
      "text/plain": [
       "KNeighborsClassifier(n_neighbors=3)"
      ]
     },
     "execution_count": 47,
     "metadata": {},
     "output_type": "execute_result"
    }
   ],
   "source": [
    "from sklearn.neighbors import KNeighborsClassifier\n",
    "\n",
    "model_knn = KNeighborsClassifier(n_neighbors=3)\n",
    "model_knn.fit(X_train,y_train)"
   ]
  },
  {
   "cell_type": "code",
   "execution_count": 48,
   "id": "c11ec453",
   "metadata": {},
   "outputs": [
    {
     "data": {
      "text/plain": [
       "0.7820359281437126"
      ]
     },
     "execution_count": 48,
     "metadata": {},
     "output_type": "execute_result"
    }
   ],
   "source": [
    "model_knn.score(X_test,y_test)"
   ]
  },
  {
   "cell_type": "markdown",
   "id": "387a66d8",
   "metadata": {},
   "source": [
    "# KFold KNN"
   ]
  },
  {
   "cell_type": "code",
   "execution_count": 49,
   "id": "ad7942df",
   "metadata": {},
   "outputs": [
    {
     "name": "stdout",
     "output_type": "stream",
     "text": [
      "[0.76526946 0.78922156 0.76646707 0.79161677 0.8       ]\n"
     ]
    }
   ],
   "source": [
    "score_knn = cross_val_score(model_knn,X,y,cv=k_fold,n_jobs=1,scoring='accuracy')\n",
    "print(score_knn)"
   ]
  },
  {
   "cell_type": "code",
   "execution_count": 50,
   "id": "b6e0fa48",
   "metadata": {},
   "outputs": [
    {
     "data": {
      "text/plain": [
       "78.25149700598801"
      ]
     },
     "execution_count": 50,
     "metadata": {},
     "output_type": "execute_result"
    }
   ],
   "source": [
    "score_knn.mean()*100"
   ]
  },
  {
   "cell_type": "code",
   "execution_count": null,
   "id": "ea46aa2d",
   "metadata": {},
   "outputs": [],
   "source": []
  },
  {
   "cell_type": "code",
   "execution_count": null,
   "id": "da42f1f5",
   "metadata": {},
   "outputs": [],
   "source": []
  },
  {
   "cell_type": "code",
   "execution_count": null,
   "id": "fb93f27f",
   "metadata": {},
   "outputs": [],
   "source": []
  },
  {
   "cell_type": "code",
   "execution_count": null,
   "id": "80debb34",
   "metadata": {},
   "outputs": [],
   "source": []
  }
 ],
 "metadata": {
  "kernelspec": {
   "display_name": "Python 3 (ipykernel)",
   "language": "python",
   "name": "python3"
  },
  "language_info": {
   "codemirror_mode": {
    "name": "ipython",
    "version": 3
   },
   "file_extension": ".py",
   "mimetype": "text/x-python",
   "name": "python",
   "nbconvert_exporter": "python",
   "pygments_lexer": "ipython3",
   "version": "3.9.7"
  }
 },
 "nbformat": 4,
 "nbformat_minor": 5
}
